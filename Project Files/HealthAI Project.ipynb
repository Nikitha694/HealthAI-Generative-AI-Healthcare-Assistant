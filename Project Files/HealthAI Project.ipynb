{
 "cells": [
  {
   "cell_type": "markdown",
   "id": "82e795e5",
   "metadata": {},
   "source": [
    "# 🧠 HealthAI - Generative AI Health Assistant"
   ]
  },
  {
   "cell_type": "code",
   "execution_count": null,
   "id": "402df926",
   "metadata": {},
   "outputs": [],
   "source": [
    "!pip install gradio transformers accelerate"
   ]
  },
  {
   "cell_type": "code",
   "execution_count": null,
   "id": "0d81682d",
   "metadata": {},
   "outputs": [],
   "source": [
    "from transformers import AutoTokenizer, AutoModelForCausalLM, pipeline\n",
    "import gradio as gr\n",
    "import os"
   ]
  },
  {
   "cell_type": "code",
   "execution_count": null,
   "id": "b4546704",
   "metadata": {},
   "outputs": [],
   "source": [
    "model_name = \"ibm-granite/granite-3.3-2b-instruct\"\n",
    "hf_token = os.getenv(\"HF_TOKEN\")  # Set this in your environment\n",
    "\n",
    "tokenizer = AutoTokenizer.from_pretrained(model_name, token=hf_token)\n",
    "model = AutoModelForCausalLM.from_pretrained(\n",
    "    model_name,\n",
    "    token=hf_token,\n",
    "    device_map=\"auto\",\n",
    "    trust_remote_code=True\n",
    ")\n",
    "\n",
    "generator = pipeline(\"text-generation\", model=model, tokenizer=tokenizer)"
   ]
  },
  {
   "cell_type": "markdown",
   "id": "966449bb",
   "metadata": {},
   "source": [
    "### 🔍 Function: Identify Disease"
   ]
  },
  {
   "cell_type": "code",
   "execution_count": null,
   "id": "76e638f0",
   "metadata": {},
   "outputs": [],
   "source": [
    "def identify_disease(symptoms):\n",
    "    prompt = f\"Given the symptoms: {symptoms}, identify the possible disease.\"\n",
    "    result = generator(prompt, max_new_tokens=100)[0]['generated_text']\n",
    "    response = result.split(prompt)[-1].strip()\n",
    "    return f\"*Predicted Disease:*\\n\\n{response}\""
   ]
  },
  {
   "cell_type": "markdown",
   "id": "6adb791e",
   "metadata": {},
   "source": [
    "### 🌿 Function: Suggest Home Remedies"
   ]
  },
  {
   "cell_type": "code",
   "execution_count": null,
   "id": "5d76c6bb",
   "metadata": {},
   "outputs": [],
   "source": [
    "def home_remedies(disease):\n",
    "    prompt = f\"Suggest natural home remedies for the disease: {disease}.\"\n",
    "    result = generator(prompt, max_new_tokens=100)[0]['generated_text']\n",
    "    response = result.split(prompt)[-1].strip()\n",
    "    return f\"*Home Remedies for {disease.capitalize()}:*\\n\\n{response}\""
   ]
  },
  {
   "cell_type": "markdown",
   "id": "0f907ead",
   "metadata": {},
   "source": [
    "### 🤖 Function: General Health Query"
   ]
  },
  {
   "cell_type": "code",
   "execution_count": null,
   "id": "9c913090",
   "metadata": {},
   "outputs": [],
   "source": [
    "def health_query(question):\n",
    "    prompt = f\"As a health assistant, answer the following question clearly:\\nQuestion: {question}\"\n",
    "    result = generator(prompt, max_new_tokens=150)[0]['generated_text']\n",
    "    response = result.split(prompt)[-1].strip()\n",
    "    return f\"*Answer:*\\n\\n{response}\""
   ]
  },
  {
   "cell_type": "markdown",
   "id": "e0020944",
   "metadata": {},
   "source": [
    "### 🚀 Launch Gradio App"
   ]
  },
  {
   "cell_type": "code",
   "execution_count": null,
   "id": "8fa7aca3",
   "metadata": {},
   "outputs": [],
   "source": [
    "with gr.Blocks() as demo:\n",
    "    gr.Markdown(\"# 🧠 HealthAI - Your Personal AI Health Assistant\")\n",
    "\n",
    "    with gr.Tab(\"🩺 Symptoms Identifier\"):\n",
    "        symptoms_input = gr.Textbox(label=\"Enter your symptoms\")\n",
    "        disease_output = gr.Textbox(label=\"Predicted Disease\")\n",
    "        symptoms_button = gr.Button(\"Predict Disease\")\n",
    "        symptoms_button.click(fn=identify_disease, inputs=symptoms_input, outputs=disease_output)\n",
    "\n",
    "    with gr.Tab(\"🌿 Home Remedies\"):\n",
    "        disease_input = gr.Textbox(label=\"Enter Disease\")\n",
    "        remedy_output = gr.Textbox(label=\"Home Remedy\")\n",
    "        remedy_button = gr.Button(\"Get Remedy\")\n",
    "        remedy_button.click(fn=home_remedies, inputs=disease_input, outputs=remedy_output)\n",
    "\n",
    "    with gr.Tab(\"🤖 Ask a Health Question\"):\n",
    "        user_question = gr.Textbox(label=\"Ask a health-related question\", placeholder=\"e.g., How to prevent diabetes?\")\n",
    "        answer_output = gr.Textbox(label=\"AI Answer\")\n",
    "        ask_button = gr.Button(\"Get Answer\")\n",
    "        ask_button.click(fn=health_query, inputs=user_question, outputs=answer_output)\n",
    "\n",
    "demo.launch()"
   ]
  }
 ],
 "metadata": {},
 "nbformat": 4,
 "nbformat_minor": 5
}
